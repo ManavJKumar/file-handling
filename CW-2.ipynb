{
 "cells": [
  {
   "cell_type": "code",
   "execution_count": 1,
   "id": "ca01956f",
   "metadata": {},
   "outputs": [],
   "source": [
    "import os"
   ]
  },
  {
   "cell_type": "code",
   "execution_count": 2,
   "id": "c7ff3792",
   "metadata": {},
   "outputs": [
    {
     "data": {
      "text/plain": [
       "'C:\\\\Users\\\\manav\\\\GEEKSTER'"
      ]
     },
     "execution_count": 2,
     "metadata": {},
     "output_type": "execute_result"
    }
   ],
   "source": [
    "%pwd"
   ]
  },
  {
   "cell_type": "code",
   "execution_count": 3,
   "id": "47221118",
   "metadata": {},
   "outputs": [],
   "source": [
    "new_dir=\"new_dir\""
   ]
  },
  {
   "cell_type": "code",
   "execution_count": 4,
   "id": "ef6c69a9",
   "metadata": {},
   "outputs": [],
   "source": [
    "os.mkdir(new_dir)"
   ]
  },
  {
   "cell_type": "code",
   "execution_count": 5,
   "id": "858e4606",
   "metadata": {},
   "outputs": [
    {
     "data": {
      "text/plain": [
       "['.ipynb_checkpoints', 'CW-2.ipynb', 'new_dir']"
      ]
     },
     "execution_count": 5,
     "metadata": {},
     "output_type": "execute_result"
    }
   ],
   "source": [
    "os.listdir(\".\")"
   ]
  },
  {
   "cell_type": "code",
   "execution_count": 6,
   "id": "0ce8d724",
   "metadata": {},
   "outputs": [],
   "source": [
    "with open(\"new_dir/first.txt\",\"w\") as f:\n",
    "    f.write('This is first file for file handling')"
   ]
  },
  {
   "cell_type": "code",
   "execution_count": 7,
   "id": "535bfd2c",
   "metadata": {},
   "outputs": [
    {
     "name": "stdout",
     "output_type": "stream",
     "text": [
      "This is first file for file handling\n"
     ]
    }
   ],
   "source": [
    "with open(\"new_dir/first.txt\",\"r\")as f:\n",
    "    print(f.read())"
   ]
  },
  {
   "cell_type": "code",
   "execution_count": 8,
   "id": "71ec142c",
   "metadata": {},
   "outputs": [],
   "source": [
    "os.rename(\"new_dir/first.txt\",\"new_dir/second.txt\")"
   ]
  },
  {
   "cell_type": "code",
   "execution_count": 9,
   "id": "1d59e914",
   "metadata": {},
   "outputs": [
    {
     "data": {
      "text/plain": [
       "['second.txt']"
      ]
     },
     "execution_count": 9,
     "metadata": {},
     "output_type": "execute_result"
    }
   ],
   "source": [
    "os.listdir(new_dir)"
   ]
  },
  {
   "cell_type": "code",
   "execution_count": 10,
   "id": "d1606626",
   "metadata": {},
   "outputs": [],
   "source": [
    "os.remove(\"new_dir/second.txt\")"
   ]
  },
  {
   "cell_type": "code",
   "execution_count": 11,
   "id": "1450db08",
   "metadata": {},
   "outputs": [],
   "source": [
    "import shutil"
   ]
  },
  {
   "cell_type": "code",
   "execution_count": 12,
   "id": "6286d79f",
   "metadata": {},
   "outputs": [],
   "source": [
    "shutil.rmtree(new_dir)"
   ]
  },
  {
   "cell_type": "code",
   "execution_count": 14,
   "id": "97191957",
   "metadata": {},
   "outputs": [
    {
     "data": {
      "text/plain": [
       "['.ipynb_checkpoints', 'CW-2.ipynb']"
      ]
     },
     "execution_count": 14,
     "metadata": {},
     "output_type": "execute_result"
    }
   ],
   "source": [
    "os.listdir(\".\")"
   ]
  },
  {
   "cell_type": "code",
   "execution_count": null,
   "id": "45c90543",
   "metadata": {},
   "outputs": [],
   "source": []
  }
 ],
 "metadata": {
  "kernelspec": {
   "display_name": "Python 3 (ipykernel)",
   "language": "python",
   "name": "python3"
  },
  "language_info": {
   "codemirror_mode": {
    "name": "ipython",
    "version": 3
   },
   "file_extension": ".py",
   "mimetype": "text/x-python",
   "name": "python",
   "nbconvert_exporter": "python",
   "pygments_lexer": "ipython3",
   "version": "3.9.7"
  }
 },
 "nbformat": 4,
 "nbformat_minor": 5
}
